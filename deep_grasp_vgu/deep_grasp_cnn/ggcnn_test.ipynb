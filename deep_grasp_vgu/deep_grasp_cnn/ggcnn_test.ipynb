{
 "cells": [
  {
   "cell_type": "code",
   "execution_count": 2,
   "id": "ca562d56",
   "metadata": {},
   "outputs": [
    {
     "name": "stdout",
     "output_type": "stream",
     "text": [
      "Loading model from: weights\\ggcnn_weights_cornell\\ggcnn_epoch_23_cornell\n"
     ]
    },
    {
     "name": "stderr",
     "output_type": "stream",
     "text": [
      "D:\\miniconda3\\envs\\yolox-build\\lib\\site-packages\\torch\\serialization.py:786: SourceChangeWarning: source code of class 'torch.nn.modules.conv.Conv2d' has changed. you can retrieve the original source code by accessing the object's source attribute or set `torch.nn.Module.dump_patches = True` and use the patch tool to revert the changes.\n",
      "  warnings.warn(msg, SourceChangeWarning)\n",
      "D:\\miniconda3\\envs\\yolox-build\\lib\\site-packages\\torch\\serialization.py:786: SourceChangeWarning: source code of class 'torch.nn.modules.conv.ConvTranspose2d' has changed. you can retrieve the original source code by accessing the object's source attribute or set `torch.nn.Module.dump_patches = True` and use the patch tool to revert the changes.\n",
      "  warnings.warn(msg, SourceChangeWarning)\n"
     ]
    }
   ],
   "source": [
    "%load_ext autoreload\n",
    "%autoreload 2\n",
    "\n",
    "import cv2\n",
    "import matplotlib.pyplot as plt\n",
    "import numpy as np\n",
    "\n",
    "import sys\n",
    "sys.path.append(\"D:\\\\Projects\\\\Deep_Grasp\\\\deep_grasp_vgu\\\\deep_grasp_vgu\\\\deep_grasp_cnn\\\\src\")\n",
    "\n",
    "import ggcnn.ggcnn_torch as ggcnn_torch\n",
    "from ggcnn.ggcnn_torch import predict, process_depth_image\n",
    "\n",
    "import torch\n",
    "\n",
    "ggcnn_torch.load_model_by_path(\"weights\\\\ggcnn_weights_cornell\\\\ggcnn_epoch_23_cornell\")\n",
    "\n",
    "from dougsm_helpers.gridshow import gridshow"
   ]
  },
  {
   "cell_type": "code",
   "execution_count": 31,
   "id": "c2528c6d",
   "metadata": {},
   "outputs": [
    {
     "name": "stdout",
     "output_type": "stream",
     "text": [
      "12-Sep-22  04:47 PM         1,229,072 pcd0100d.tiff\n",
      "12-Sep-22  04:47 PM         1,229,072 pcd0101d.tiff\n",
      "12-Sep-22  04:47 PM         1,229,072 pcd0102d.tiff\n",
      "12-Sep-22  04:47 PM         1,229,072 pcd0103d.tiff\n",
      "12-Sep-22  04:47 PM         1,229,072 pcd0104d.tiff\n",
      "12-Sep-22  04:47 PM         1,229,072 pcd0105d.tiff\n"
     ]
    }
   ],
   "source": [
    "!dir self_data | findstr color"
   ]
  },
  {
   "cell_type": "code",
   "execution_count": 17,
   "id": "33d756cf",
   "metadata": {},
   "outputs": [
    {
     "data": {
      "text/plain": [
       "<matplotlib.image.AxesImage at 0x2071627dc88>"
      ]
     },
     "execution_count": 17,
     "metadata": {},
     "output_type": "execute_result"
    },
    {
     "data": {
      "image/png": "[encoded data removed]",
      "text/plain": [
       "<Figure size 432x288 with 1 Axes>"
      ]
     },
     "metadata": {
      "needs_background": "light"
     },
     "output_type": "display_data"
    }
   ],
   "source": [
    "suff = \"self_data\\\\1662964643\" + \"_\"\n",
    "\n",
    "cam_fov = 60\n",
    "\n",
    "depth = np.load(suff + \"depth.npy\")\n",
    "camera_rot = np.load(suff + \"camera_rot.npy\")\n",
    "cam_K = np.load(suff + \"cam_K.npy\")\n",
    "cam_p = np.load(suff + \"cam_p.npy\")\n",
    "plt.imshow(depth)"
   ]
  },
  {
   "cell_type": "markdown",
   "id": "24fbafd4",
   "metadata": {},
   "source": [
    "### Preprocess image"
   ]
  },
  {
   "cell_type": "code",
   "execution_count": 18,
   "id": "c0e8ddde",
   "metadata": {},
   "outputs": [],
   "source": [
    "process_depth=True\n",
    "crop_size=400\n",
    "out_size=300\n",
    "depth_nan_mask=None\n",
    "crop_y_offset=0\n",
    "filters=(2.0, 1.0, 1.0)"
   ]
  },
  {
   "cell_type": "code",
   "execution_count": 19,
   "id": "95c2e9c1",
   "metadata": {},
   "outputs": [
    {
     "name": "stdout",
     "output_type": "stream",
     "text": [
      "1: 0.0ms\n",
      "2: 0.4ms\n",
      "3: 0.0ms\n",
      "4: 0.0ms\n",
      "  Inpainting: 0.0ms\n",
      "5: 1.0ms\n",
      "6: 0.0ms\n"
     ]
    }
   ],
   "source": [
    "depth_crop, depth_nan_mask = process_depth_image(depth, crop_size, out_size=out_size, return_mask=True, crop_y_offset=crop_y_offset)"
   ]
  },
  {
   "cell_type": "code",
   "execution_count": 20,
   "id": "31e0150e",
   "metadata": {},
   "outputs": [],
   "source": [
    "points, angle, width_img, _ = predict(depth_crop, process_depth=False, depth_nan_mask=depth_nan_mask, filters=(2.0, 2.0, 2.0))"
   ]
  },
  {
   "cell_type": "code",
   "execution_count": 21,
   "id": "d9cfc30c",
   "metadata": {},
   "outputs": [],
   "source": [
    "# Mask Points Here\n",
    "angle -= np.arcsin(camera_rot[0, 1])  # Correct for the rotation of the camera\n",
    "angle = (angle + np.pi/2) % np.pi - np.pi/2  # Wrap [-np.pi/2, np.pi/2]"
   ]
  },
  {
   "cell_type": "code",
   "execution_count": 22,
   "id": "45134ceb",
   "metadata": {},
   "outputs": [
    {
     "name": "stderr",
     "output_type": "stream",
     "text": [
      "D:\\miniconda3\\envs\\yolox-build\\lib\\site-packages\\ipykernel_launcher.py:3: DeprecationWarning: `np.float` is a deprecated alias for the builtin `float`. To silence this warning, use `float` by itself. Doing this will not modify any behavior and is safe. If you specifically wanted the numpy scalar type, use `np.float64` here.\n",
      "Deprecated in NumPy 1.20; for more details and guidance: https://numpy.org/devdocs/release/1.20.0-notes.html#deprecations\n",
      "  This is separate from the ipykernel package so we can avoid doing imports until\n",
      "D:\\miniconda3\\envs\\yolox-build\\lib\\site-packages\\ipykernel_launcher.py:4: DeprecationWarning: `np.float` is a deprecated alias for the builtin `float`. To silence this warning, use `float` by itself. Doing this will not modify any behavior and is safe. If you specifically wanted the numpy scalar type, use `np.float64` here.\n",
      "Deprecated in NumPy 1.20; for more details and guidance: https://numpy.org/devdocs/release/1.20.0-notes.html#deprecations\n",
      "  after removing the cwd from sys.path.\n"
     ]
    }
   ],
   "source": [
    "# Convert to 3D positions.\n",
    "imh, imw = depth.shape\n",
    "x = ((np.vstack((np.linspace((imw - crop_size) // 2, (imw - crop_size) // 2 + crop_size, depth_crop.shape[1], np.float), )*depth_crop.shape[0]) - cam_K[0, 2])/cam_K[0, 0] * depth_crop).flatten()\n",
    "y = ((np.vstack((np.linspace((imh - crop_size) // 2 - crop_y_offset, (imh - crop_size) // 2 + crop_size - crop_y_offset, depth_crop.shape[0], np.float), )*depth_crop.shape[1]).T - cam_K[1,2])/ cam_K[1, 1] * depth_crop).flatten()\n",
    "pos = np.dot(camera_rot, np.stack((x, y, depth_crop.flatten()))).T + np.array([[cam_p[0], cam_p[1], cam_p[2]]])\n",
    "\n",
    "width_m = width_img / 300.0 * 2.0 * depth_crop * np.tan(cam_fov * crop_size/depth.shape[0] / 2.0 / 180.0 * np.pi)\n",
    "\n",
    "best_g = np.argmax(points)\n",
    "best_g_unr = np.unravel_index(best_g, points.shape)"
   ]
  },
  {
   "cell_type": "code",
   "execution_count": 23,
   "id": "780d8730",
   "metadata": {},
   "outputs": [],
   "source": [
    "## Extract grasp information\n",
    "grasp_x = pos[best_g, 0]\n",
    "grasp_y = pos[best_g, 1]\n",
    "grasp_z = pos[best_g, 2]\n",
    "grasp_orientation_x = np.pi\n",
    "grasp_orientation_y = 0\n",
    "grasp_orientation_z = (angle[best_g_unr]%np.pi) - np.pi/2\n",
    "grasp_width = width_m[best_g_unr]\n",
    "grasp_quality = points[best_g_unr]"
   ]
  },
  {
   "cell_type": "code",
   "execution_count": 24,
   "id": "734d443f",
   "metadata": {},
   "outputs": [],
   "source": [
    "depth_crop_ = (depth_crop - depth_crop.min())/(depth_crop.max() - depth_crop.min())"
   ]
  },
  {
   "cell_type": "code",
   "execution_count": 25,
   "id": "0bd24be7",
   "metadata": {},
   "outputs": [],
   "source": [
    "depth_crop_[best_g_unr] = 1"
   ]
  },
  {
   "cell_type": "code",
   "execution_count": 26,
   "id": "62a4ec2e",
   "metadata": {},
   "outputs": [
    {
     "data": {
      "text/plain": [
       "<matplotlib.image.AxesImage at 0x207162de0c8>"
      ]
     },
     "execution_count": 26,
     "metadata": {},
     "output_type": "execute_result"
    },
    {
     "data": {
      "image/png": "[encoded data removed]",
      "text/plain": [
       "<Figure size 432x288 with 1 Axes>"
      ]
     },
     "metadata": {
      "needs_background": "light"
     },
     "output_type": "display_data"
    }
   ],
   "source": [
    "plt.imshow(depth_crop_)"
   ]
  },
  {
   "cell_type": "code",
   "execution_count": 27,
   "id": "559a38e3",
   "metadata": {},
   "outputs": [
    {
     "data": {
      "text/plain": [
       "<matplotlib.image.AxesImage at 0x20720f9f208>"
      ]
     },
     "execution_count": 27,
     "metadata": {},
     "output_type": "execute_result"
    },
    {
     "data": {
      "image/png": "[encoded data removed]",
      "text/plain": [
       "<Figure size 432x288 with 1 Axes>"
      ]
     },
     "metadata": {
      "needs_background": "light"
     },
     "output_type": "display_data"
    }
   ],
   "source": [
    "show = gridshow('Display',\n",
    "            [depth_crop, points],\n",
    "            [(0.2, 0.55), None, (-np.pi/2, np.pi/2)],\n",
    "            [cv2.COLORMAP_JET, cv2.COLORMAP_JET, cv2.COLORMAP_BONE],\n",
    "            3,\n",
    "            False)\n",
    "plt.imshow(show)"
   ]
  },
  {
   "cell_type": "code",
   "execution_count": 31,
   "id": "4df123a4",
   "metadata": {},
   "outputs": [
    {
     "data": {
      "text/plain": [
       "array([[0.99968135, 0.9996828 , 0.99968135, ..., 0.9991335 , 0.9991322 ,\n",
       "        0.9991335 ],\n",
       "       [0.9996805 , 0.99968195, 0.9996805 , ..., 0.9991327 , 0.99913144,\n",
       "        0.9991327 ],\n",
       "       [0.99968135, 0.9996828 , 0.99968135, ..., 0.9991335 , 0.9991322 ,\n",
       "        0.9991335 ],\n",
       "       ...,\n",
       "       [0.99999785, 0.9999993 , 0.99999785, ..., 0.99944973, 0.9994483 ,\n",
       "        0.99944973],\n",
       "       [0.9999986 , 1.        , 0.9999986 , ..., 0.99945045, 0.999449  ,\n",
       "        0.99945045],\n",
       "       [0.99999785, 0.9999993 , 0.99999785, ..., 0.99944973, 0.9994483 ,\n",
       "        0.99944973]], dtype=float32)"
      ]
     },
     "execution_count": 31,
     "metadata": {},
     "output_type": "execute_result"
    }
   ],
   "source": [
    "depth_crop"
   ]
  },
  {
   "cell_type": "code",
   "execution_count": 32,
   "id": "1b5b5ce1",
   "metadata": {},
   "outputs": [
    {
     "data": {
      "text/plain": [
       "(0.8248369, 1.0)"
      ]
     },
     "execution_count": 32,
     "metadata": {},
     "output_type": "execute_result"
    }
   ],
   "source": [
    "depth_crop.min(), depth_crop.max()"
   ]
  },
  {
   "cell_type": "code",
   "execution_count": 14,
   "id": "4ec27877",
   "metadata": {},
   "outputs": [
    {
     "data": {
      "text/plain": [
       "<matplotlib.image.AxesImage at 0x1962a193d48>"
      ]
     },
     "execution_count": 14,
     "metadata": {},
     "output_type": "execute_result"
    },
    {
     "data": {
      "image/png": "[encoded data removed]",
      "text/plain": [
       "<Figure size 432x288 with 1 Axes>"
      ]
     },
     "metadata": {
      "needs_background": "light"
     },
     "output_type": "display_data"
    }
   ],
   "source": [
    "disp_im = cv2.imread(\"display.png\")\n",
    "plt.imshow(disp_im)"
   ]
  },
  {
   "cell_type": "code",
   "execution_count": null,
   "id": "f47a177b",
   "metadata": {},
   "outputs": [],
   "source": []
  },
  {
   "cell_type": "code",
   "execution_count": 24,
   "id": "6634f1ec",
   "metadata": {},
   "outputs": [
    {
     "data": {
      "text/plain": [
       "array([[0.22497667, 0.22497627, 0.22497587, ..., 0.22485368, 0.22485328,\n",
       "        0.22485287],\n",
       "       [0.22497691, 0.22497651, 0.22497612, ..., 0.22485393, 0.22485352,\n",
       "        0.22485311],\n",
       "       [0.22497717, 0.22497676, 0.22497636, ..., 0.22485416, 0.22485375,\n",
       "        0.22485334],\n",
       "       ...,\n",
       "       [0.22504772, 0.22504732, 0.2250469 , ..., 0.22492465, 0.22492427,\n",
       "        0.22492385],\n",
       "       [0.22504795, 0.22504754, 0.22504714, ..., 0.22492489, 0.22492449,\n",
       "        0.22492409],\n",
       "       [0.22504818, 0.22504777, 0.22504736, ..., 0.22492513, 0.22492473,\n",
       "        0.22492431]], dtype=float32)"
      ]
     },
     "execution_count": 24,
     "metadata": {},
     "output_type": "execute_result"
    }
   ],
   "source": [
    "depth_crop"
   ]
  },
  {
   "cell_type": "code",
   "execution_count": 17,
   "id": "b85473d4",
   "metadata": {},
   "outputs": [
    {
     "data": {
      "text/plain": [
       "(300, 300)"
      ]
     },
     "execution_count": 17,
     "metadata": {},
     "output_type": "execute_result"
    }
   ],
   "source": [
    "angle.shape"
   ]
  }
 ],
 "metadata": {
  "kernelspec": {
   "display_name": "Python 3 (ipykernel)",
   "language": "python",
   "name": "python3"
  },
  "language_info": {
   "codemirror_mode": {
    "name": "ipython",
    "version": 3
   },
   "file_extension": ".py",
   "mimetype": "text/x-python",
   "name": "python",
   "nbconvert_exporter": "python",
   "pygments_lexer": "ipython3",
   "version": "3.7.13"
  }
 },
 "nbformat": 4,
 "nbformat_minor": 5
}
